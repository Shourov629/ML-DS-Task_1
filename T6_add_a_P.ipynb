{
 "cells": [
  {
   "cell_type": "code",
   "execution_count": 2,
   "id": "aa642fc3",
   "metadata": {},
   "outputs": [
    {
     "name": "stdout",
     "output_type": "stream",
     "text": [
      "['ux1P5', 'rt0P', 'ft3P', 'z1aP']\n"
     ]
    }
   ],
   "source": [
    "def P_not_In(string):\n",
    "    if \"P\" not in string:\n",
    "        return string + \"P\"\n",
    "    else:\n",
    "        return string\n",
    "my_list = [\"ux1P5\", \"rt0\", \"ft3\", \"z1aP\"]\n",
    "\n",
    "edited_list = list(map(P_not_In, my_list))\n",
    "\n",
    "print(edited_list)\n"
   ]
  },
  {
   "cell_type": "code",
   "execution_count": null,
   "id": "27d779ed",
   "metadata": {},
   "outputs": [],
   "source": []
  }
 ],
 "metadata": {
  "kernelspec": {
   "display_name": "Python 3 (ipykernel)",
   "language": "python",
   "name": "python3"
  },
  "language_info": {
   "codemirror_mode": {
    "name": "ipython",
    "version": 3
   },
   "file_extension": ".py",
   "mimetype": "text/x-python",
   "name": "python",
   "nbconvert_exporter": "python",
   "pygments_lexer": "ipython3",
   "version": "3.11.0"
  }
 },
 "nbformat": 4,
 "nbformat_minor": 5
}
